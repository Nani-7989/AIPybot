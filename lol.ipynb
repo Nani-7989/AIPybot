{
 "cells": [
  {
   "cell_type": "code",
   "execution_count": 3,
   "metadata": {},
   "outputs": [
    {
     "name": "stderr",
     "output_type": "stream",
     "text": [
      "C:\\Users\\saiga\\AppData\\Local\\Temp/ipykernel_15816/2671489474.py:11: DeprecationWarning: find_element_by_* commands are deprecated. Please use find_element() instead\n",
      "  searchbar = driver.find_element_by_xpath('//*[@id=\"search-input\"]').click()\n",
      "C:\\Users\\saiga\\AppData\\Local\\Temp/ipykernel_15816/2671489474.py:15: DeprecationWarning: find_element_by_* commands are deprecated. Please use find_element() instead\n",
      "  nquery = driver.find_element_by_xpath('//*[@id=\"search-input\"]').send_keys(query)\n"
     ]
    }
   ],
   "source": [
    "#gaana report bot \n",
    "\n",
    "import selenium\n",
    "from selenium import webdriver as wd \n",
    "import keyboard\n",
    "import pyttsx3\n",
    "import speech_recognition\n",
    "\n",
    "driver= wd.Chrome()\n",
    "\n",
    "driver.get('https://mio.to/')\n",
    "\n",
    "searchbar = driver.find_element_by_xpath('//*[@id=\"search-input\"]').click()\n",
    "\n",
    "\n",
    "query = input()\n",
    "\n",
    "nquery = driver.find_element_by_xpath('//*[@id=\"search-input\"]').send_keys(query)\n",
    "\n",
    "keyboard.press('enter')\n"
   ]
  },
  {
   "cell_type": "code",
   "execution_count": 6,
   "metadata": {},
   "outputs": [
    {
     "name": "stdout",
     "output_type": "stream",
     "text": [
      "Nandigram\n",
      "turn on the Chrome\n"
     ]
    },
    {
     "ename": "UnknownValueError",
     "evalue": "",
     "output_type": "error",
     "traceback": [
      "\u001b[1;31m---------------------------------------------------------------------------\u001b[0m",
      "\u001b[1;31mUnknownValueError\u001b[0m                         Traceback (most recent call last)",
      "\u001b[1;32m~\\AppData\\Local\\Temp/ipykernel_15816/2224240298.py\u001b[0m in \u001b[0;36m<module>\u001b[1;34m\u001b[0m\n\u001b[0;32m    116\u001b[0m         \u001b[0mspeak\u001b[0m\u001b[1;33m(\u001b[0m\u001b[0mres\u001b[0m\u001b[1;33m)\u001b[0m\u001b[1;33m\u001b[0m\u001b[1;33m\u001b[0m\u001b[0m\n\u001b[0;32m    117\u001b[0m         \u001b[1;32mif\u001b[0m\u001b[1;33m(\u001b[0m\u001b[0mmessage\u001b[0m \u001b[1;33m==\u001b[0m \u001b[1;34m\"turn on the Chrome\"\u001b[0m\u001b[1;33m)\u001b[0m\u001b[1;33m:\u001b[0m\u001b[1;33m\u001b[0m\u001b[1;33m\u001b[0m\u001b[0m\n\u001b[1;32m--> 118\u001b[1;33m                 \u001b[0mgoogle_chrome\u001b[0m\u001b[1;33m(\u001b[0m\u001b[1;33m)\u001b[0m\u001b[1;33m\u001b[0m\u001b[1;33m\u001b[0m\u001b[0m\n\u001b[0m\u001b[0;32m    119\u001b[0m         \u001b[1;32melif\u001b[0m\u001b[1;33m(\u001b[0m\u001b[0mmessage\u001b[0m \u001b[1;33m==\u001b[0m \u001b[1;34m\"Play music\"\u001b[0m\u001b[1;33m)\u001b[0m\u001b[1;33m:\u001b[0m\u001b[1;33m\u001b[0m\u001b[1;33m\u001b[0m\u001b[0m\n\u001b[0;32m    120\u001b[0m                 \u001b[0mmusicalhits\u001b[0m\u001b[1;33m(\u001b[0m\u001b[1;33m)\u001b[0m\u001b[1;33m\u001b[0m\u001b[1;33m\u001b[0m\u001b[0m\n",
      "\u001b[1;32m~\\AppData\\Local\\Temp/ipykernel_15816/2224240298.py\u001b[0m in \u001b[0;36mgoogle_chrome\u001b[1;34m()\u001b[0m\n\u001b[0;32m     82\u001b[0m         \u001b[0mspeak\u001b[0m\u001b[1;33m(\u001b[0m\u001b[1;34m\"come again\"\u001b[0m\u001b[1;33m)\u001b[0m\u001b[1;33m\u001b[0m\u001b[1;33m\u001b[0m\u001b[0m\n\u001b[0;32m     83\u001b[0m \u001b[1;33m\u001b[0m\u001b[0m\n\u001b[1;32m---> 84\u001b[1;33m     \u001b[0mfact\u001b[0m \u001b[1;33m=\u001b[0m  \u001b[0mu\u001b[0m\u001b[1;33m.\u001b[0m\u001b[0mrecognize_google\u001b[0m\u001b[1;33m(\u001b[0m\u001b[0maudio\u001b[0m\u001b[1;33m,\u001b[0m\u001b[0mlanguage\u001b[0m \u001b[1;33m=\u001b[0m\u001b[1;34m'en-in'\u001b[0m\u001b[1;33m)\u001b[0m\u001b[1;33m\u001b[0m\u001b[1;33m\u001b[0m\u001b[0m\n\u001b[0m\u001b[0;32m     85\u001b[0m     \u001b[0mprint\u001b[0m\u001b[1;33m(\u001b[0m\u001b[0mfact\u001b[0m\u001b[1;33m)\u001b[0m\u001b[1;33m\u001b[0m\u001b[1;33m\u001b[0m\u001b[0m\n\u001b[0;32m     86\u001b[0m     \u001b[0mdriver\u001b[0m \u001b[1;33m=\u001b[0m \u001b[0mwd\u001b[0m\u001b[1;33m.\u001b[0m\u001b[0mChrome\u001b[0m\u001b[1;33m(\u001b[0m\u001b[1;33m)\u001b[0m\u001b[1;33m\u001b[0m\u001b[1;33m\u001b[0m\u001b[0m\n",
      "\u001b[1;32m~\\AppData\\Local\\Programs\\Python\\Python39\\lib\\site-packages\\speech_recognition\\__init__.py\u001b[0m in \u001b[0;36mrecognize_google\u001b[1;34m(self, audio_data, key, language, show_all)\u001b[0m\n\u001b[0;32m    856\u001b[0m         \u001b[1;31m# return results\u001b[0m\u001b[1;33m\u001b[0m\u001b[1;33m\u001b[0m\u001b[0m\n\u001b[0;32m    857\u001b[0m         \u001b[1;32mif\u001b[0m \u001b[0mshow_all\u001b[0m\u001b[1;33m:\u001b[0m \u001b[1;32mreturn\u001b[0m \u001b[0mactual_result\u001b[0m\u001b[1;33m\u001b[0m\u001b[1;33m\u001b[0m\u001b[0m\n\u001b[1;32m--> 858\u001b[1;33m         \u001b[1;32mif\u001b[0m \u001b[1;32mnot\u001b[0m \u001b[0misinstance\u001b[0m\u001b[1;33m(\u001b[0m\u001b[0mactual_result\u001b[0m\u001b[1;33m,\u001b[0m \u001b[0mdict\u001b[0m\u001b[1;33m)\u001b[0m \u001b[1;32mor\u001b[0m \u001b[0mlen\u001b[0m\u001b[1;33m(\u001b[0m\u001b[0mactual_result\u001b[0m\u001b[1;33m.\u001b[0m\u001b[0mget\u001b[0m\u001b[1;33m(\u001b[0m\u001b[1;34m\"alternative\"\u001b[0m\u001b[1;33m,\u001b[0m \u001b[1;33m[\u001b[0m\u001b[1;33m]\u001b[0m\u001b[1;33m)\u001b[0m\u001b[1;33m)\u001b[0m \u001b[1;33m==\u001b[0m \u001b[1;36m0\u001b[0m\u001b[1;33m:\u001b[0m \u001b[1;32mraise\u001b[0m \u001b[0mUnknownValueError\u001b[0m\u001b[1;33m(\u001b[0m\u001b[1;33m)\u001b[0m\u001b[1;33m\u001b[0m\u001b[1;33m\u001b[0m\u001b[0m\n\u001b[0m\u001b[0;32m    859\u001b[0m \u001b[1;33m\u001b[0m\u001b[0m\n\u001b[0;32m    860\u001b[0m         \u001b[1;32mif\u001b[0m \u001b[1;34m\"confidence\"\u001b[0m \u001b[1;32min\u001b[0m \u001b[0mactual_result\u001b[0m\u001b[1;33m[\u001b[0m\u001b[1;34m\"alternative\"\u001b[0m\u001b[1;33m]\u001b[0m\u001b[1;33m:\u001b[0m\u001b[1;33m\u001b[0m\u001b[1;33m\u001b[0m\u001b[0m\n",
      "\u001b[1;31mUnknownValueError\u001b[0m: "
     ]
    }
   ],
   "source": [
    "import random \n",
    "import json \n",
    "import pickle\n",
    "import numpy as np \n",
    "import nltk \n",
    "from nltk.stem import WordNetLemmatizer\n",
    "import tensorflow\n",
    "import pyttsx3 \n",
    "import speech_recognition as us \n",
    "import selenium\n",
    "from selenium import webdriver as wd \n",
    "\n",
    "\n",
    "from tensorflow.keras.models import load_model\n",
    "\n",
    "lemmatizer = WordNetLemmatizer()\n",
    "intents = json.loads(open('intents.json').read())\n",
    "\n",
    "words = pickle.load(open('words.pkl','rb'))\n",
    "\n",
    "classes = pickle.load(open('classes.pkl','rb'))\n",
    "\n",
    "model = load_model('chatbot_model.h5')\n",
    "\n",
    "roro = pyttsx3.init('sapi5')\n",
    "voices = roro.getProperty('voices')\n",
    "roro.setProperty('voice',voices[1].id)\n",
    "\n",
    "def speak(audio):\n",
    "    roro.say(audio)\n",
    "    roro.runAndWait()\n",
    "\n",
    "def cleanScentence(sentence):\n",
    "    sentence_words =nltk.word_tokenize(sentence)\n",
    "    sentence_words = [lemmatizer.lemmatize(word) for word in sentence_words]\n",
    "    return sentence_words\n",
    "\n",
    "\n",
    "def bagwords(sentence):\n",
    "    sentence_words = cleanScentence(sentence)\n",
    "    bag = [0]* len(words)\n",
    "    for w in sentence_words:\n",
    "        for i, word in enumerate(words):\n",
    "            if word == w:\n",
    "                bag[i] = 1\n",
    "    return np.array(bag)\n",
    "\n",
    "def predictclass(sentence):\n",
    "    bow = bagwords(sentence)\n",
    "    res = model.predict(np.array([bow]))[0]\n",
    "    ERROR_TRESHOLD = 0.25\n",
    "    result = [[i,r]for i, r in enumerate(res) if r > ERROR_TRESHOLD]\n",
    "    result.sort(key=lambda x: x[1], reverse=True)\n",
    "\n",
    "    return_list = []\n",
    "    for r in result:\n",
    "        return_list.append({'intent':classes[r[0]],'probablity':str(r[1])})\n",
    "    return return_list\n",
    "\n",
    "def get_response(intents_list,intents_json):\n",
    "    tag = intents_list[0]['intent']\n",
    "    listofintents = intents_json['intents']\n",
    "    for i in listofintents:\n",
    "        if i['tag'] == tag:\n",
    "            result = random.choice(i['responses'])\n",
    "            break\n",
    "    return result\n",
    "\n",
    "def google_chrome():\n",
    "    speak(\"what you wanna search today\")\n",
    "    print(fact)\n",
    "    driver = wd.Chrome()\n",
    "    driver.get('https://www.google.com/search?q={}'.format(fact))\n",
    "    \n",
    "\n",
    "def musicalhits():\n",
    "    speak(\"name your favourite music\")\n",
    "    \n",
    "\n",
    "speak(\"Jexi is UP and Running...\")\n",
    "\n",
    "\n",
    "while True:\n",
    "    loopr = 2 \n",
    "    for i in range(loopr):\n",
    "        u = us.Recognizer()\n",
    "        u.energy_treshold = 5000\n",
    "        with us.Microphone() as source:\n",
    "            speak(\"At your service what you wanna do...\")\n",
    "            u.parse_treshold =100\n",
    "            audio = u.listen(source)\n",
    "        try:\n",
    "            speak(\"processing...\")\n",
    "            message= u.recognize_google(audio,language ='en-in')\n",
    "            print(message)\n",
    "        except Exception as e:\n",
    "            speak(\"come again\")\n",
    "\n",
    "\n",
    "        ints= predictclass(message)\n",
    "        res = get_response(ints, intents)\n",
    "        speak(res)\n",
    "        if(message == \"turn on the Chrome\"):\n",
    "                google_chrome()\n",
    "        elif(message == \"Play music\"):\n",
    "                musicalhits() \n",
    "        elif(message == \"quit\"):  \n",
    "            break\n",
    "        else:\n",
    "            speak(\"Awaiting for yoyr response\") \n",
    "        \n",
    "\n",
    "\n",
    "\n",
    "\n"
   ]
  },
  {
   "cell_type": "code",
   "execution_count": 1,
   "metadata": {},
   "outputs": [
    {
     "ename": "ModuleNotFoundError",
     "evalue": "No module named 'autopy'",
     "output_type": "error",
     "traceback": [
      "\u001b[1;31m---------------------------------------------------------------------------\u001b[0m",
      "\u001b[1;31mModuleNotFoundError\u001b[0m                       Traceback (most recent call last)",
      "\u001b[1;32m~\\AppData\\Local\\Temp/ipykernel_5416/3011523973.py\u001b[0m in \u001b[0;36m<module>\u001b[1;34m\u001b[0m\n\u001b[0;32m      3\u001b[0m \u001b[1;32mimport\u001b[0m \u001b[0mHandTrackingModule\u001b[0m \u001b[1;32mas\u001b[0m \u001b[0mhtm\u001b[0m\u001b[1;33m\u001b[0m\u001b[1;33m\u001b[0m\u001b[0m\n\u001b[0;32m      4\u001b[0m \u001b[1;32mimport\u001b[0m \u001b[0mtime\u001b[0m\u001b[1;33m\u001b[0m\u001b[1;33m\u001b[0m\u001b[0m\n\u001b[1;32m----> 5\u001b[1;33m \u001b[1;32mimport\u001b[0m \u001b[0mautopy\u001b[0m\u001b[1;33m\u001b[0m\u001b[1;33m\u001b[0m\u001b[0m\n\u001b[0m\u001b[0;32m      6\u001b[0m \u001b[1;33m\u001b[0m\u001b[0m\n\u001b[0;32m      7\u001b[0m \u001b[0mcap\u001b[0m \u001b[1;33m=\u001b[0m \u001b[0mcv2\u001b[0m\u001b[1;33m.\u001b[0m\u001b[0mVideoCapture\u001b[0m\u001b[1;33m(\u001b[0m\u001b[1;36m1\u001b[0m\u001b[1;33m)\u001b[0m\u001b[1;33m\u001b[0m\u001b[1;33m\u001b[0m\u001b[0m\n",
      "\u001b[1;31mModuleNotFoundError\u001b[0m: No module named 'autopy'"
     ]
    }
   ],
   "source": [
    "import cv2\n",
    "import numpy as np\n",
    "import HandTrackingModule as htm\n",
    "import time \n",
    "import autopy \n",
    "\n",
    "cap = cv2.VideoCapture(1)\n"
   ]
  }
 ],
 "metadata": {
  "interpreter": {
   "hash": "6c4553851d92d128b33f359b9d97cdf0523a097e71006a11fff121bb821330a1"
  },
  "kernelspec": {
   "display_name": "Python 3.9.7 64-bit",
   "language": "python",
   "name": "python3"
  },
  "language_info": {
   "codemirror_mode": {
    "name": "ipython",
    "version": 3
   },
   "file_extension": ".py",
   "mimetype": "text/x-python",
   "name": "python",
   "nbconvert_exporter": "python",
   "pygments_lexer": "ipython3",
   "version": "3.9.7"
  },
  "orig_nbformat": 4
 },
 "nbformat": 4,
 "nbformat_minor": 2
}
